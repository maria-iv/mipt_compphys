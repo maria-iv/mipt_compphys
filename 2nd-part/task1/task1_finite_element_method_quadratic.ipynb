{
 "cells": [
  {
   "cell_type": "markdown",
   "metadata": {},
   "source": [
    "# Heat equation"
   ]
  },
  {
   "cell_type": "markdown",
   "metadata": {},
   "source": [
    "## libs"
   ]
  },
  {
   "cell_type": "code",
   "execution_count": 1,
   "metadata": {},
   "outputs": [],
   "source": [
    "import numpy as np\n",
    "import scipy.linalg as sc\n",
    "import matplotlib.pyplot as plt\n",
    "\n",
    "from matplotlib import animation"
   ]
  },
  {
   "cell_type": "markdown",
   "metadata": {},
   "source": [
    "## initialization"
   ]
  },
  {
   "cell_type": "code",
   "execution_count": 2,
   "metadata": {},
   "outputs": [],
   "source": [
    "LENGTH = 0.5\n",
    "INITIAL = 0\n",
    "BOUND = 1\n",
    "\n",
    "NUMBER_X = 51"
   ]
  },
  {
   "cell_type": "code",
   "execution_count": 3,
   "metadata": {},
   "outputs": [],
   "source": [
    "step_x = LENGTH * 2 / (NUMBER_X - 1)"
   ]
  },
  {
   "cell_type": "markdown",
   "metadata": {},
   "source": [
    "## building matrices"
   ]
  },
  {
   "cell_type": "code",
   "execution_count": 6,
   "metadata": {},
   "outputs": [],
   "source": [
    "stiffness_matrix = np.eye(NUMBER_X) - np.roll(np.eye(NUMBER_X),1,axis=1) - np.roll(np.eye(NUMBER_X),1,axis=0)\n",
    "stiffness_matrix[0,-1] = stiffness_matrix[-1,0] = 0\n",
    "\n",
    "stiffness_matrix *= stiff_array / step_x\n",
    "stiffness_matrix[int(NUMBER_X/2) + 1, int(NUMBER_X/2)] = stiffness_matrix[int(NUMBER_X/2), int(NUMBER_X/2) + 1]\n",
    "\n",
    "for i in range(NUMBER_X-1):\n",
    "    stiffness_matrix[i,i] =  (stiff_array[i] + stiff_array[i+1]) / step_x"
   ]
  },
  {
   "cell_type": "code",
   "execution_count": 7,
   "metadata": {},
   "outputs": [],
   "source": [
    "source_matrix = np.ones_like(axis)\n",
    "\n",
    "for i in range(NUMBER_X-1):\n",
    "    source_matrix[i] = step_x * (source_array[i] + source_array[i+1]) / 2"
   ]
  },
  {
   "cell_type": "markdown",
   "metadata": {},
   "source": [
    "## initial condition"
   ]
  },
  {
   "cell_type": "code",
   "execution_count": 8,
   "metadata": {},
   "outputs": [],
   "source": [
    "source_matrix[0] = INITIAL\n",
    "source_matrix[-1] = BOUND\n",
    "\n",
    "stiffness_matrix[0,0] = stiffness_matrix[-1,-1] = 1\n",
    "stiffness_matrix[0,1:] = stiffness_matrix[-1,:-1] = 0"
   ]
  },
  {
   "cell_type": "markdown",
   "metadata": {},
   "source": [
    "## main procedures"
   ]
  },
  {
   "cell_type": "code",
   "execution_count": 9,
   "metadata": {},
   "outputs": [],
   "source": [
    "U = sc.solve(stiffness_matrix, source_matrix)\n",
    "U_exact = calculate_exact_solution(axis)"
   ]
  },
  {
   "cell_type": "markdown",
   "metadata": {},
   "source": [
    "## results"
   ]
  },
  {
   "cell_type": "code",
   "execution_count": 10,
   "metadata": {},
   "outputs": [
    {
     "data": {
      "text/plain": [
       "[<matplotlib.lines.Line2D at 0x11cf490f0>]"
      ]
     },
     "execution_count": 10,
     "metadata": {},
     "output_type": "execute_result"
    },
    {
     "data": {
      "image/png": "[encoded data removed]",
      "text/plain": [
       "<Figure size 720x360 with 1 Axes>"
      ]
     },
     "metadata": {
      "needs_background": "light"
     },
     "output_type": "display_data"
    }
   ],
   "source": [
    "fig, ax = plt.subplots(figsize=(10, 5))\n",
    "\n",
    "ax.plot(axis, U, c='black',)\n",
    "ax.plot(axis, U_exact, c='blue')"
   ]
  },
  {
   "cell_type": "code",
   "execution_count": 11,
   "metadata": {},
   "outputs": [
    {
     "data": {
      "text/plain": [
       "3.481659405224491e-15"
      ]
     },
     "execution_count": 11,
     "metadata": {},
     "output_type": "execute_result"
    }
   ],
   "source": [
    "(abs(U-U_exact)).max()"
   ]
  }
 ],
 "metadata": {
  "kernelspec": {
   "display_name": "Python 3",
   "language": "python",
   "name": "python3"
  },
  "language_info": {
   "codemirror_mode": {
    "name": "ipython",
    "version": 3
   },
   "file_extension": ".py",
   "mimetype": "text/x-python",
   "name": "python",
   "nbconvert_exporter": "python",
   "pygments_lexer": "ipython3",
   "version": "3.7.2"
  }
 },
 "nbformat": 4,
 "nbformat_minor": 2
}
