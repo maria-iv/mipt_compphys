{
 "cells": [
  {
   "cell_type": "markdown",
   "metadata": {},
   "source": [
    "# Heat equation"
   ]
  },
  {
   "cell_type": "markdown",
   "metadata": {},
   "source": [
    "## libs"
   ]
  },
  {
   "cell_type": "code",
   "execution_count": 189,
   "metadata": {},
   "outputs": [],
   "source": [
    "import numpy as np\n",
    "import scipy.linalg as sc\n",
    "from scipy import special\n",
    "\n",
    "import matplotlib.pyplot as plt"
   ]
  },
  {
   "cell_type": "markdown",
   "metadata": {},
   "source": [
    "## initialization"
   ]
  },
  {
   "cell_type": "code",
   "execution_count": 381,
   "metadata": {},
   "outputs": [],
   "source": [
    "LENGTH = 1\n",
    "INITIAL = 0\n",
    "BOUND = 0\n",
    "\n",
    "NUMBER_X = 160\n",
    "\n",
    "STIFFNESS = 1"
   ]
  },
  {
   "cell_type": "code",
   "execution_count": 382,
   "metadata": {},
   "outputs": [],
   "source": [
    "step_x = LENGTH / NUMBER_X"
   ]
  },
  {
   "cell_type": "code",
   "execution_count": 383,
   "metadata": {},
   "outputs": [],
   "source": [
    "def source(x):\n",
    "    return np.exp(-(8 * x - 4) ** 4)"
   ]
  },
  {
   "cell_type": "markdown",
   "metadata": {},
   "source": [
    "## building matrices"
   ]
  },
  {
   "cell_type": "code",
   "execution_count": 384,
   "metadata": {},
   "outputs": [],
   "source": [
    "axis = np.linspace(0, LENGTH, 2 * NUMBER_X + 1)"
   ]
  },
  {
   "cell_type": "code",
   "execution_count": 385,
   "metadata": {},
   "outputs": [],
   "source": [
    "stiffness_matrix = (14 * np.eye(len(axis)) - 8 * np.roll(np.eye(len(axis)), 1, axis=1) - \n",
    "                   8 * np.roll(np.eye(len(axis)), 1, axis=0))\n",
    "\n",
    "stiffness_matrix[0,-1] = stiffness_matrix[-1,0] = 0\n",
    "\n",
    "for i in range(1,len(axis)-1,2):\n",
    "    stiffness_matrix[i+1,i-1] = 1\n",
    "    stiffness_matrix[i-1,i+1] = 1\n",
    "    stiffness_matrix[i, i] += 2\n",
    "    \n",
    "stiffness_matrix *= STIFFNESS / 3 / step_x"
   ]
  },
  {
   "cell_type": "code",
   "execution_count": 386,
   "metadata": {},
   "outputs": [],
   "source": [
    "source_matrix = np.zeros_like(axis)\n",
    "\n",
    "for i in range(0, len(axis)-2, 2):\n",
    "    source_matrix[i] += 4 * source(axis[i]) + 2 * source(axis[i+1]) - source(axis[i+2])\n",
    "    source_matrix[i+1] += 2 * source(axis[i]) + 16 * source(axis[i+1]) + 2 * source(axis[i+2])\n",
    "    source_matrix[i+2] += - source(axis[i]) + 2 * source(axis[i+1]) + 4 * source(axis[i+2])\n",
    "\n",
    "source_matrix *= step_x / 30"
   ]
  },
  {
   "cell_type": "markdown",
   "metadata": {},
   "source": [
    "## initial condition"
   ]
  },
  {
   "cell_type": "code",
   "execution_count": 387,
   "metadata": {},
   "outputs": [],
   "source": [
    "source_matrix[0] = INITIAL\n",
    "source_matrix[-1] = BOUND\n",
    "\n",
    "stiffness_matrix[0,0] = stiffness_matrix[-1,-1] = 1\n",
    "stiffness_matrix[0,1:] = stiffness_matrix[-1,:-1] = 0"
   ]
  },
  {
   "cell_type": "markdown",
   "metadata": {},
   "source": [
    "## main procedures"
   ]
  },
  {
   "cell_type": "code",
   "execution_count": 388,
   "metadata": {},
   "outputs": [],
   "source": [
    "U = sc.solve(stiffness_matrix, source_matrix)"
   ]
  },
  {
   "cell_type": "markdown",
   "metadata": {},
   "source": [
    "## results"
   ]
  },
  {
   "cell_type": "code",
   "execution_count": 397,
   "metadata": {},
   "outputs": [
    {
     "data": {
      "text/plain": [
       "[<matplotlib.lines.Line2D at 0x11f7a5ac8>]"
      ]
     },
     "execution_count": 397,
     "metadata": {},
     "output_type": "execute_result"
    },
    {
     "data": {
      "image/png": "[encoded data removed]",
      "text/plain": [
       "<Figure size 720x360 with 1 Axes>"
      ]
     },
     "metadata": {
      "needs_background": "light"
     },
     "output_type": "display_data"
    }
   ],
   "source": [
    "fig, ax = plt.subplots(figsize=(10, 5))\n",
    "\n",
    "ax.plot(axis, U, c='black')"
   ]
  },
  {
   "cell_type": "markdown",
   "metadata": {},
   "source": [
    "## accuracy"
   ]
  },
  {
   "cell_type": "code",
   "execution_count": 370,
   "metadata": {},
   "outputs": [],
   "source": [
    "#U_h = U.copy()"
   ]
  },
  {
   "cell_type": "code",
   "execution_count": 380,
   "metadata": {},
   "outputs": [],
   "source": [
    "#U_h2 = U.copy()"
   ]
  },
  {
   "cell_type": "code",
   "execution_count": 390,
   "metadata": {},
   "outputs": [],
   "source": [
    "#U_h4 = U.copy()"
   ]
  },
  {
   "cell_type": "code",
   "execution_count": 391,
   "metadata": {},
   "outputs": [],
   "source": [
    "U_h2_clean = np.zeros_like(U_h)\n",
    "U_h4_clean = np.zeros_like(U_h)"
   ]
  },
  {
   "cell_type": "code",
   "execution_count": 392,
   "metadata": {},
   "outputs": [],
   "source": [
    "for i in range(0,U_h2.size,2):\n",
    "    U_h2_clean[int(i/2)] = U_h2[i]"
   ]
  },
  {
   "cell_type": "code",
   "execution_count": 393,
   "metadata": {},
   "outputs": [],
   "source": [
    "for i in range(0,U_h4.size,4):\n",
    "    U_h4_clean[int(i/4)] = U_h4[i]"
   ]
  },
  {
   "cell_type": "code",
   "execution_count": 394,
   "metadata": {},
   "outputs": [],
   "source": [
    "L = (np.abs(U_h[:-2] - U_h2_clean[:-2])).max() / (np.abs(U_h4_clean[:-2] - U_h2_clean[:-2])).max()"
   ]
  },
  {
   "cell_type": "code",
   "execution_count": 396,
   "metadata": {},
   "outputs": [
    {
     "data": {
      "text/plain": [
       "4.265753316271124"
      ]
     },
     "execution_count": 396,
     "metadata": {},
     "output_type": "execute_result"
    }
   ],
   "source": [
    "np.log2(L)"
   ]
  }
 ],
 "metadata": {
  "kernelspec": {
   "display_name": "Python 3",
   "language": "python",
   "name": "python3"
  },
  "language_info": {
   "codemirror_mode": {
    "name": "ipython",
    "version": 3
   },
   "file_extension": ".py",
   "mimetype": "text/x-python",
   "name": "python",
   "nbconvert_exporter": "python",
   "pygments_lexer": "ipython3",
   "version": "3.7.2"
  }
 },
 "nbformat": 4,
 "nbformat_minor": 2
}
