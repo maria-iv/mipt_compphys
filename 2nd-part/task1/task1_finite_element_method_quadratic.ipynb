{
 "cells": [
  {
   "cell_type": "markdown",
   "metadata": {},
   "source": [
    "# Heat equation"
   ]
  },
  {
   "cell_type": "markdown",
   "metadata": {},
   "source": [
    "## libs"
   ]
  },
  {
   "cell_type": "code",
   "execution_count": 312,
   "metadata": {},
   "outputs": [],
   "source": [
    "import numpy as np\n",
    "import scipy.linalg as sc\n",
    "import matplotlib.pyplot as plt\n",
    "\n",
    "from matplotlib import animation"
   ]
  },
  {
   "cell_type": "markdown",
   "metadata": {},
   "source": [
    "## initialization"
   ]
  },
  {
   "cell_type": "code",
   "execution_count": 331,
   "metadata": {},
   "outputs": [],
   "source": [
    "LENGTH = 1\n",
    "INITIAL = 0\n",
    "BOUND = 0\n",
    "\n",
    "NUMBER_X = 111\n",
    "\n",
    "STIFFNESS = 1"
   ]
  },
  {
   "cell_type": "code",
   "execution_count": 332,
   "metadata": {},
   "outputs": [],
   "source": [
    "step_x = LENGTH / NUMBER_X"
   ]
  },
  {
   "cell_type": "code",
   "execution_count": 333,
   "metadata": {},
   "outputs": [],
   "source": [
    "def source(x):\n",
    "    return np.exp(-(8 * x - 4)**4)\n",
    "    #return 0"
   ]
  },
  {
   "cell_type": "markdown",
   "metadata": {},
   "source": [
    "## building matrices"
   ]
  },
  {
   "cell_type": "code",
   "execution_count": 334,
   "metadata": {},
   "outputs": [],
   "source": [
    "axis = np.linspace(0, LENGTH, 2 * NUMBER_X + 1)"
   ]
  },
  {
   "cell_type": "code",
   "execution_count": 335,
   "metadata": {},
   "outputs": [],
   "source": [
    "stiffness_matrix = (14 * np.eye(len(axis)) - 8 * np.roll(np.eye(len(axis)), 1, axis=1) - \n",
    "                   8 * np.roll(np.eye(len(axis)), 1, axis=0))\n",
    "\n",
    "stiffness_matrix[0,-1] = stiffness_matrix[-1,0] = 0\n",
    "\n",
    "for i in range(1,len(axis)-1,2):\n",
    "    stiffness_matrix[i+1,i-1] = 1\n",
    "    stiffness_matrix[i-1,i+1] = 1\n",
    "    stiffness_matrix[i, i] += 2\n",
    "    \n",
    "    \n",
    "stiffness_matrix *= STIFFNESS / 3 / step_x"
   ]
  },
  {
   "cell_type": "code",
   "execution_count": 336,
   "metadata": {},
   "outputs": [],
   "source": [
    "source_matrix = np.ones_like(axis)\n",
    "\n",
    "for i in range(0, len(axis)-2, 2):\n",
    "    source_matrix[i] = 3 * source(axis[i]) + 4 * source(axis[i+1]) + 3 * source(axis[i+2])\n",
    "    source_matrix[i+1] = 2 * source(axis[i]) + 16 * source(axis[i+1]) + 2 * source(axis[i+2])\n",
    "    \n",
    "source_matrix *= step_x / 30"
   ]
  },
  {
   "cell_type": "markdown",
   "metadata": {},
   "source": [
    "## initial condition"
   ]
  },
  {
   "cell_type": "code",
   "execution_count": 337,
   "metadata": {},
   "outputs": [],
   "source": [
    "source_matrix[0] = INITIAL\n",
    "source_matrix[-1] = BOUND\n",
    "\n",
    "stiffness_matrix[0,0] = stiffness_matrix[-1,-1] = 1\n",
    "stiffness_matrix[0,1:] = stiffness_matrix[-1,:-1] = 0"
   ]
  },
  {
   "cell_type": "markdown",
   "metadata": {},
   "source": [
    "## main procedures"
   ]
  },
  {
   "cell_type": "code",
   "execution_count": 338,
   "metadata": {},
   "outputs": [],
   "source": [
    "U = sc.solve(stiffness_matrix, source_matrix)\n",
    "#U_exact = calculate_exact_solution(axis)"
   ]
  },
  {
   "cell_type": "markdown",
   "metadata": {},
   "source": [
    "## results"
   ]
  },
  {
   "cell_type": "code",
   "execution_count": 339,
   "metadata": {},
   "outputs": [
    {
     "data": {
      "text/plain": [
       "[<matplotlib.lines.Line2D at 0x1265e02b0>]"
      ]
     },
     "execution_count": 339,
     "metadata": {},
     "output_type": "execute_result"
    },
    {
     "data": {
      "image/png": "[encoded data removed]",
      "text/plain": [
       "<Figure size 720x360 with 1 Axes>"
      ]
     },
     "metadata": {
      "needs_background": "light"
     },
     "output_type": "display_data"
    }
   ],
   "source": [
    "fig, ax = plt.subplots(figsize=(10, 5))\n",
    "\n",
    "ax.plot(axis, U, c='black',)\n",
    "#ax.plot(axis, U_exact, c='blue')"
   ]
  },
  {
   "cell_type": "code",
   "execution_count": null,
   "metadata": {},
   "outputs": [],
   "source": []
  }
 ],
 "metadata": {
  "kernelspec": {
   "display_name": "Python 3",
   "language": "python",
   "name": "python3"
  },
  "language_info": {
   "codemirror_mode": {
    "name": "ipython",
    "version": 3
   },
   "file_extension": ".py",
   "mimetype": "text/x-python",
   "name": "python",
   "nbconvert_exporter": "python",
   "pygments_lexer": "ipython3",
   "version": "3.7.2"
  }
 },
 "nbformat": 4,
 "nbformat_minor": 2
}
