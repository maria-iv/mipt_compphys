{
 "cells": [
  {
   "cell_type": "markdown",
   "metadata": {},
   "source": [
    "# Heat equation"
   ]
  },
  {
   "cell_type": "markdown",
   "metadata": {},
   "source": [
    "## imports"
   ]
  },
  {
   "cell_type": "code",
   "execution_count": 114,
   "metadata": {},
   "outputs": [],
   "source": [
    "import numpy as np\n",
    "import pandas as pd\n",
    "import scipy"
   ]
  },
  {
   "cell_type": "code",
   "execution_count": 115,
   "metadata": {},
   "outputs": [],
   "source": [
    "import tqdm\n",
    "import cv2\n",
    "import matplotlib.pyplot as plt\n",
    "from IPython.display import HTML\n",
    "from functools import lru_cache"
   ]
  },
  {
   "cell_type": "markdown",
   "metadata": {},
   "source": [
    "## initialization"
   ]
  },
  {
   "cell_type": "code",
   "execution_count": 141,
   "metadata": {},
   "outputs": [],
   "source": [
    "X_max = 120\n",
    "Y_max = 70\n",
    "X_min = Y_min = 0\n",
    "\n",
    "NUMBER_X = 240\n",
    "NUMBER_Y = 140"
   ]
  },
  {
   "cell_type": "code",
   "execution_count": 142,
   "metadata": {},
   "outputs": [],
   "source": [
    "X_RANGE = np.linspace(X_min, X_max, NUMBER_X)\n",
    "Y_RANGE = np.linspace(Y_min, Y_max, NUMBER_Y)\n",
    "\n",
    "X_STEP = X_RANGE[1] - X_RANGE[0]\n",
    "Y_STEP = Y_RANGE[1] - Y_RANGE[0]"
   ]
  },
  {
   "cell_type": "code",
   "execution_count": 143,
   "metadata": {},
   "outputs": [],
   "source": [
    "X, Y = np.meshgrid(X_RANGE, Y_RANGE, indexing='ij')\n",
    "\n",
    "T = np.zeros_like(X)\n",
    "lambdas = np.ones_like(X)\n",
    "source_c = np.zeros_like(X) \n",
    "source_p = np.zeros_like(X)"
   ]
  },
  {
   "cell_type": "code",
   "execution_count": 144,
   "metadata": {},
   "outputs": [],
   "source": [
    "def calculate_coefficients(alpha, beta, current_u, upper_u, lower_u, s_c, s_p, current_lambdas, upper_lambdas, lower_lambdas, kind):\n",
    "    \"\"\"makes Thomas algorithm for longituginal and transversal kinds\"\"\"\n",
    "    if kind == 'longituginal':\n",
    "        size_x = X_STEP\n",
    "        size_y = Y_STEP\n",
    "        \n",
    "    elif kind == 'transversal':\n",
    "        size_x = Y_STEP\n",
    "        size_y = X_STEP\n",
    "\n",
    "    a  = np.roll(current_lambdas, 1) / (np.roll(current_lambdas, 1) + current_lambdas) / size_x ** 2\n",
    "    b  = np.roll(current_lambdas, -1) / (np.roll(current_lambdas, -1) + current_lambdas) / size_x ** 2\n",
    "    c = (\n",
    "        ((np.roll(current_lambdas, -1) + np.roll(current_lambdas, 1)) * current_lambdas + \n",
    "        2 * np.roll(current_lambdas, -1) * np.roll(current_lambdas, 1)) /\n",
    "        (np.roll(current_lambdas, -1) + current_lambdas) / \n",
    "        (np.roll(current_lambdas, 1) + current_lambdas) /\n",
    "        size_x ** 2 +\n",
    "        ((upper_lambdas + lower_lambdas) * current_lambdas + \n",
    "        2 * upper_lambdas * lower_lambdas) /\n",
    "        (upper_lambdas + current_lambdas) / \n",
    "        (lower_lambdas + current_lambdas) /\n",
    "        size_y ** 2 +\n",
    "        s_p\n",
    "    )\n",
    "    d = (\n",
    "        upper_lambdas / (upper_lambdas + current_lambdas)\n",
    "        * upper_u / size_y ** 2 + \n",
    "        lower_lambdas / (lower_lambdas + current_lambdas)\n",
    "        * lower_u / size_y ** 2 -\n",
    "        s_c / (2 * current_lambdas)\n",
    "    )\n",
    "\n",
    "    for i in range(1, len(current_u)-1):\n",
    "        alpha[i+1] = b[i] / (c[i] - alpha[i] * a[i])\n",
    "        beta[i+1] = (a[i] * beta[i] + d[i]) / (c[i] - alpha[i] * a[i])\n",
    "        \n",
    "    return alpha, beta\n",
    "    \n",
    "def thomas_algorithm_trans(U, S_c, S_p,lambdas):\n",
    "    \n",
    "    for k in range(1, len(U[1,:]) - 1):  \n",
    "        \n",
    "        lambdas, U = first_area(lambdas, U)\n",
    "        lambdas, U, S_c, S_p = second_area(lambdas, U, S_c, S_p)\n",
    "        lambdas, U = third_area(lambdas, U)\n",
    "        lambdas, S_c = fourth_area(lambdas, S_c)\n",
    "        lambdas, S_c, S_p = fifth_area(lambdas, S_c, S_p)\n",
    "    \n",
    "        current_u = U[:, k]\n",
    "        upper_u = U[:, k+1]\n",
    "        lower_u = U[:, k-1]\n",
    "        \n",
    "        s_c = S_c[:, k]\n",
    "        s_p = S_p[:, k]\n",
    "        \n",
    "        current_lambdas = lambdas[:, k]\n",
    "        upper_lambdas = lambdas[:, k+1]\n",
    "        lower_lambdas = lambdas[:, k-1]\n",
    "        \n",
    "        alpha = np.zeros_like(current_u)\n",
    "        beta = np.zeros_like(current_u)\n",
    "\n",
    "        alpha[1] = 0\n",
    "        beta[1] = Q_LEFT * X_STEP / current_lambdas[0]\n",
    "        \n",
    "\n",
    "        \n",
    "        kind = 'transversal'\n",
    "        alpha, beta = calculate_coefficients(alpha, beta, current_u, upper_u, lower_u, s_c, s_p, \n",
    "                                             current_lambdas, upper_lambdas, lower_lambdas, kind)\n",
    "        \n",
    "        U[-1, k] = T_RIGHT\n",
    "        \n",
    "        for m in reversed(range(0, len(U[:, 1]) - 1)):\n",
    "            U[m, k] = alpha[m+1] * U[m+1, k] + beta[m+1]\n",
    "            \n",
    "    return U\n",
    "\n",
    "def thomas_algorithm_long(U, S_c, S_p, lambdas):\n",
    "    for m in range(1, len(U[:, 1]) - 1):\n",
    "                \n",
    "        lambdas, U = first_area(lambdas, U)\n",
    "        lambdas, U, S_c, S_p = second_area(lambdas, U, S_c, S_p)\n",
    "        lambdas, U = third_area(lambdas, U)\n",
    "        lambdas, S_c = fourth_area(lambdas, S_c)\n",
    "        lambdas, S_c, S_p = fifth_area(lambdas, S_c, S_p)\n",
    "\n",
    "        current_u = U[m, :]\n",
    "        upper_u = U[m+1, :]\n",
    "        lower_u = U[m-1, :]\n",
    "\n",
    "        s_c = S_c[m, :]\n",
    "        s_p = S_p[m, :]\n",
    "\n",
    "        current_lambdas = lambdas[m, :]\n",
    "        upper_lambdas = lambdas[m+1, :]\n",
    "        lower_lambdas = lambdas[m-1, :]\n",
    "\n",
    "        alpha = np.zeros_like(current_u)\n",
    "        beta = np.zeros_like(current_u)\n",
    "\n",
    "        alpha[1] = 0\n",
    "        beta[1] = T_LOWER\n",
    "\n",
    "\n",
    "        kind = 'longituginal'\n",
    "        alpha, beta = calculate_coefficients(alpha, beta, current_u, upper_u, lower_u, s_c, s_p, \n",
    "                                             current_lambdas, upper_lambdas, lower_lambdas, kind)\n",
    "        \n",
    "        U[m, -1] = (Y_STEP * Q_UPPER / current_lambdas[-1] + beta[-1]) / (1 - alpha[-1])\n",
    "\n",
    "        for k in reversed(range(0, len(U[1,:]) - 1)):\n",
    "            U[m, k] = alpha[k+1] * U[m, k+1] + beta[k+1]\n",
    "            \n",
    "    U[-1, k] = T_RIGHT\n",
    "\n",
    "    return U\n",
    "    \n",
    "def heatmap2d(arr: np.ndarray, interpolation=None):\n",
    "    plt.imshow(arr.T, cmap='hot', interpolation=interpolation)\n",
    "    plt.colorbar()\n",
    "    plt.xlabel('x')\n",
    "    plt.ylabel('y')\n",
    "    plt.title('Temperature map')\n",
    "    ax = plt.gca()\n",
    "    ax.invert_yaxis()"
   ]
  },
  {
   "cell_type": "markdown",
   "metadata": {},
   "source": [
    "## boundary conditions"
   ]
  },
  {
   "cell_type": "markdown",
   "metadata": {},
   "source": [
    "<img src=\"task3.png\">"
   ]
  },
  {
   "cell_type": "markdown",
   "metadata": {},
   "source": [
    "### outlet conditions"
   ]
  },
  {
   "cell_type": "code",
   "execution_count": 145,
   "metadata": {},
   "outputs": [],
   "source": [
    "T_LOWER = 0         # lower bound\n",
    "Q_UPPER = 5         # upper bound\n",
    "Q_LEFT = 0          # left bound\n",
    "T_RIGHT = 200       # right bound"
   ]
  },
  {
   "cell_type": "markdown",
   "metadata": {},
   "source": [
    "### 1"
   ]
  },
  {
   "cell_type": "code",
   "execution_count": 146,
   "metadata": {},
   "outputs": [],
   "source": [
    "def first_area(lambdas, U):\n",
    "    T_edge = 100\n",
    "    lambda_edge = 10 ** 20\n",
    "\n",
    "    bound_size_x = NUMBER_X // 4\n",
    "    bound_size_y = NUMBER_Y // 4\n",
    "\n",
    "    lambdas[0 : bound_size_x, 0 : bound_size_y] = lambda_edge\n",
    "    U[0 : bound_size_x, 0] = T_edge\n",
    "    U[0 : bound_size_x, bound_size_y] = T_edge\n",
    "    U[0, 0 : bound_size_y] = T_edge\n",
    "    U[bound_size_x, 0 : bound_size_y] = T_edge\n",
    "    return lambdas, U"
   ]
  },
  {
   "cell_type": "markdown",
   "metadata": {},
   "source": [
    "### 2"
   ]
  },
  {
   "cell_type": "code",
   "execution_count": 147,
   "metadata": {},
   "outputs": [],
   "source": [
    "@lru_cache(maxsize=None)\n",
    "def generate_masks():\n",
    "    mask_circle, mask_ring = np.zeros_like(T), np.zeros_like(T)\n",
    "    \n",
    "    radius = NUMBER_Y // 6\n",
    "    \n",
    "    cv2.circle(mask_circle, (NUMBER_Y // 2, NUMBER_X // 2), radius, 1, cv2.FILLED)\n",
    "    cv2.circle(mask_ring, (NUMBER_Y // 2, NUMBER_X // 2), radius, 1)\n",
    "    \n",
    "    mask_circle = mask_circle.astype(bool)\n",
    "    mask_ring = mask_ring.astype(bool)\n",
    "    \n",
    "    return mask_ring, mask_circle\n",
    "\n",
    "def second_area(lambdas, U, S_c, S_p):\n",
    "    T_edge = 300\n",
    "    lambda_edge = 10 ** 15\n",
    "    M_edge = 10 ** 20\n",
    "    \n",
    "    mask_ring, mask_circle = generate_masks()\n",
    "    lambdas[mask_circle] = lambda_edge\n",
    "    S_c[mask_circle] = M_edge\n",
    "    S_p[mask_circle] = - M_edge\n",
    "    \n",
    "    U[mask_ring] = T_edge\n",
    "    \n",
    "    return lambdas, U, S_c, S_p"
   ]
  },
  {
   "cell_type": "markdown",
   "metadata": {},
   "source": [
    "### 3"
   ]
  },
  {
   "cell_type": "code",
   "execution_count": 148,
   "metadata": {},
   "outputs": [],
   "source": [
    "def third_area(lambdas, U):\n",
    "    q_edge = 0\n",
    "    lambda_edge = 1e-5\n",
    "\n",
    "    bound_size_x = NUMBER_X // 4\n",
    "    bound_size_y = NUMBER_Y // 4\n",
    "    \n",
    "    lambdas[0 : bound_size_x, - bound_size_y: -1] = lambda_edge\n",
    "    \n",
    "    return lambdas, U"
   ]
  },
  {
   "cell_type": "markdown",
   "metadata": {},
   "source": [
    "### 4"
   ]
  },
  {
   "cell_type": "code",
   "execution_count": 149,
   "metadata": {},
   "outputs": [],
   "source": [
    "def fourth_area(lambdas, S_c):\n",
    "    q_edge = 10\n",
    "    lambda_edge = 1e-5\n",
    "\n",
    "    bound_size_x = NUMBER_X // 4\n",
    "    bound_size_y = NUMBER_Y // 4\n",
    "    \n",
    "    lambdas[- bound_size_x : -1, - bound_size_y: -1] = lambda_edge\n",
    "    S_c[- bound_size_x - 1, - bound_size_y: -1] = q_edge * X_STEP * Y_STEP\n",
    "    \n",
    "    return lambdas, S_c"
   ]
  },
  {
   "cell_type": "markdown",
   "metadata": {},
   "source": [
    "### 5"
   ]
  },
  {
   "cell_type": "code",
   "execution_count": 150,
   "metadata": {},
   "outputs": [],
   "source": [
    "def fifth_area(lambdas, S_c, S_p):\n",
    "    T_edge = 150\n",
    "    lambda_edge = 1e-5\n",
    "\n",
    "    bound_size_x = NUMBER_X // 4\n",
    "    bound_size_y = NUMBER_Y // 4\n",
    "    \n",
    "    lambdas[- bound_size_x : -1, 0 : bound_size_y] = lambda_edge\n",
    "    S_c[- bound_size_x : -1, bound_size_y] = T_edge * X_STEP * Y_STEP\n",
    "    S_p[- bound_size_x : -1, bound_size_y] = T_edge * X_STEP * Y_STEP\n",
    "    \n",
    "    return lambdas, S_c, S_p"
   ]
  },
  {
   "cell_type": "markdown",
   "metadata": {},
   "source": [
    "## main procedure"
   ]
  },
  {
   "cell_type": "code",
   "execution_count": 151,
   "metadata": {},
   "outputs": [
    {
     "data": {
      "application/vnd.jupyter.widget-view+json": {
       "model_id": "b00a4814945c44069e289755717faa9e",
       "version_major": 2,
       "version_minor": 0
      },
      "text/plain": [
       "HBox(children=(IntProgress(value=1, bar_style='info', max=1), HTML(value='')))"
      ]
     },
     "metadata": {},
     "output_type": "display_data"
    },
    {
     "name": "stdout",
     "output_type": "stream",
     "text": [
      "\n"
     ]
    }
   ],
   "source": [
    "with tqdm.tqdm_notebook() as pbar:\n",
    "    while True:\n",
    "        T_prev = T.copy()\n",
    "\n",
    "        T = thomas_algorithm_trans(T, source_c, source_p, lambdas)\n",
    "        T = thomas_algorithm_long(T, source_c, source_p, lambdas)\n",
    "\n",
    "        T_difference = abs(T_prev - T)\n",
    "\n",
    "        if np.amax(T_difference) < 0.1:\n",
    "            break\n",
    "\n",
    "        pbar.update(1)\n",
    "        pbar.set_description(f\"T diff: {T_difference.max():.5f}\")\n",
    "        pbar.refresh()"
   ]
  },
  {
   "cell_type": "markdown",
   "metadata": {},
   "source": [
    "## vizualization"
   ]
  },
  {
   "cell_type": "code",
   "execution_count": 152,
   "metadata": {
    "scrolled": false
   },
   "outputs": [
    {
     "data": {
      "text/plain": [
       "[Text(0, 0, '-10'),\n",
       " Text(0, 0, '0'),\n",
       " Text(0, 0, '10'),\n",
       " Text(0, 0, '20'),\n",
       " Text(0, 0, '30'),\n",
       " Text(0, 0, '40'),\n",
       " Text(0, 0, '50'),\n",
       " Text(0, 0, '60'),\n",
       " Text(0, 0, '70')]"
      ]
     },
     "execution_count": 152,
     "metadata": {},
     "output_type": "execute_result"
    },
    {
     "data": {
      "image/png": "[encoded data removed]",
      "text/plain": [
       "<Figure size 1440x720 with 2 Axes>"
      ]
     },
     "metadata": {
      "needs_background": "light"
     },
     "output_type": "display_data"
    }
   ],
   "source": [
    "fig, ax = plt.subplots(figsize=(20, 10))\n",
    "heatmap2d(T_prev)\n",
    "\n",
    "ticks = ax.get_xticks()\n",
    "ax.set_xticklabels([str(int(X_min + x * (X_max - X_min) // (NUMBER_X)))\n",
    "                    for x in ticks])\n",
    "\n",
    "ticks = ax.get_yticks()\n",
    "ax.set_yticklabels([str(int(Y_min + x * (Y_max - Y_min) // (NUMBER_Y)))\n",
    "                    for x in ticks])\n"
   ]
  }
 ],
 "metadata": {
  "kernelspec": {
   "display_name": "Python 3",
   "language": "python",
   "name": "python3"
  },
  "language_info": {
   "codemirror_mode": {
    "name": "ipython",
    "version": 3
   },
   "file_extension": ".py",
   "mimetype": "text/x-python",
   "name": "python",
   "nbconvert_exporter": "python",
   "pygments_lexer": "ipython3",
   "version": "3.7.2"
  }
 },
 "nbformat": 4,
 "nbformat_minor": 2
}
