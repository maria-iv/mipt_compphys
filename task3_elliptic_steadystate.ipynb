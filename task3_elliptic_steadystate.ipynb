{
 "cells": [
  {
   "cell_type": "markdown",
   "metadata": {},
   "source": [
    "# Heat equation"
   ]
  },
  {
   "cell_type": "markdown",
   "metadata": {},
   "source": [
    "## imports"
   ]
  },
  {
   "cell_type": "code",
   "execution_count": 191,
   "metadata": {},
   "outputs": [],
   "source": [
    "import numpy as np\n",
    "import pandas as pd\n",
    "import scipy"
   ]
  },
  {
   "cell_type": "code",
   "execution_count": 192,
   "metadata": {},
   "outputs": [],
   "source": [
    "import tqdm\n",
    "import cv2\n",
    "import matplotlib.pyplot as plt\n",
    "from IPython.display import HTML\n",
    "from functools import lru_cache"
   ]
  },
  {
   "cell_type": "markdown",
   "metadata": {},
   "source": [
    "## initialization"
   ]
  },
  {
   "cell_type": "code",
   "execution_count": 204,
   "metadata": {},
   "outputs": [],
   "source": [
    "X_max = 120\n",
    "Y_max = 70\n",
    "X_min = Y_min = 0\n",
    "\n",
    "NUMBER_X = 120\n",
    "NUMBER_Y = 70"
   ]
  },
  {
   "cell_type": "code",
   "execution_count": 205,
   "metadata": {},
   "outputs": [],
   "source": [
    "X_RANGE = np.linspace(X_min, X_max, NUMBER_X)\n",
    "Y_RANGE = np.linspace(Y_min, Y_max, NUMBER_Y)\n",
    "\n",
    "X_STEP = X_RANGE[1] - X_RANGE[0]\n",
    "Y_STEP = Y_RANGE[1] - Y_RANGE[0]"
   ]
  },
  {
   "cell_type": "code",
   "execution_count": 206,
   "metadata": {},
   "outputs": [],
   "source": [
    "X, Y = np.meshgrid(X_RANGE, Y_RANGE, indexing='ij')\n",
    "\n",
    "T = np.zeros_like(X)\n",
    "lambdas = np.ones_like(X)\n",
    "source_c = np.zeros_like(X) \n",
    "source_p = np.zeros_like(X)"
   ]
  },
  {
   "cell_type": "code",
   "execution_count": 207,
   "metadata": {},
   "outputs": [],
   "source": [
    "BOUND_SIZE_X = NUMBER_X // 4\n",
    "BOUND_SIZE_Y = NUMBER_Y // 4\n",
    "RADIUS = NUMBER_Y // 6"
   ]
  },
  {
   "cell_type": "code",
   "execution_count": 208,
   "metadata": {},
   "outputs": [],
   "source": [
    "def calculate_coefficients(alpha, beta, current_u, upper_u, lower_u, s_c, s_p, current_lambdas, upper_lambdas, lower_lambdas, kind):\n",
    "    \"\"\"makes Thomas algorithm for longituginal and transversal kinds\"\"\"\n",
    "    if kind == 'longituginal':\n",
    "        size_x = X_STEP\n",
    "        size_y = Y_STEP\n",
    "        \n",
    "    elif kind == 'transversal':\n",
    "        size_x = Y_STEP\n",
    "        size_y = X_STEP\n",
    "        \n",
    "    with np.errstate(divide='ignore', invalid='ignore'):\n",
    "        \n",
    "        a  = np.roll(current_lambdas, 1) / (np.roll(current_lambdas, 1) + current_lambdas) / size_x ** 2\n",
    "        b  = np.roll(current_lambdas, -1) / (np.roll(current_lambdas, -1) + current_lambdas) / size_x ** 2\n",
    "        c = (\n",
    "            ((np.roll(current_lambdas, -1) + np.roll(current_lambdas, 1)) * current_lambdas + \n",
    "            2 * np.roll(current_lambdas, -1) * np.roll(current_lambdas, 1)) /\n",
    "            (np.roll(current_lambdas, -1) + current_lambdas) / \n",
    "            (np.roll(current_lambdas, 1) + current_lambdas) /\n",
    "            size_x ** 2 +\n",
    "            ((upper_lambdas + lower_lambdas) * current_lambdas + \n",
    "            2 * upper_lambdas * lower_lambdas) /\n",
    "            (upper_lambdas + current_lambdas) / \n",
    "            (lower_lambdas + current_lambdas) /\n",
    "            size_y ** 2 +\n",
    "            s_p\n",
    "        )\n",
    "        d = (\n",
    "            upper_lambdas / (upper_lambdas + current_lambdas)\n",
    "            * upper_u / size_y ** 2 + \n",
    "            lower_lambdas / (lower_lambdas + current_lambdas)\n",
    "            * lower_u / size_y ** 2 -\n",
    "            s_c / (2 * current_lambdas)\n",
    "        )\n",
    "        \n",
    "    a = np.nan_to_num(a)\n",
    "    b = np.nan_to_num(b)\n",
    "    c[np.isnan(c)] = 1\n",
    "    d[np.isnan(d)] = 0\n",
    "\n",
    "    for i in range(1, len(current_u)-1):\n",
    "        alpha[i+1] = b[i] / (c[i] - alpha[i] * a[i])\n",
    "        beta[i+1] = (a[i] * beta[i] + d[i]) / (c[i] - alpha[i] * a[i])\n",
    "        \n",
    "    return alpha, beta\n",
    "\n",
    "def get_initials_trans(k, current_lambdas, stage):\n",
    "    \n",
    "    if k > BOUND_SIZE_Y and k < NUMBER_Y - BOUND_SIZE_Y: #background\n",
    "            alpha = 1\n",
    "            beta = Q_LEFT * X_STEP / current_lambdas[0]\n",
    "            \n",
    "            u = T_RIGHT\n",
    "        \n",
    "    elif k <= BOUND_SIZE_Y: #first area\n",
    "            alpha = 0\n",
    "            beta = T_INLET\n",
    "            \n",
    "            u = T_RIGHT\n",
    "            \n",
    "    else: #third area\n",
    "            alpha = 1\n",
    "            beta = 0\n",
    "            \n",
    "            u = T_RIGHT\n",
    "    \n",
    "    if stage == 'start':\n",
    "        return alpha, beta\n",
    "    else:\n",
    "        return u\n",
    "\n",
    "def get_initials_long(m, current_lambdas, alpha_last, beta_last, stage):\n",
    "    if m > BOUND_SIZE_X:\n",
    "        alpha = 0\n",
    "        beta = T_LOWER\n",
    "        \n",
    "        u = (Y_STEP * Q_UPPER / current_lambdas[-1] + beta_last) / (1 - alpha_last)\n",
    "\n",
    "    if m <= BOUND_SIZE_X:\n",
    "        alpha = 0\n",
    "        beta = T_INLET\n",
    "        \n",
    "        u = (Y_STEP * 0 / current_lambdas[-1] + beta_last) / (1 - alpha_last)\n",
    "            \n",
    "    \n",
    "    if stage == 'start':\n",
    "        return alpha, beta\n",
    "    else:\n",
    "        return u\n",
    "\n",
    "def thomas_algorithm_trans(U, S_c, S_p,lambdas):\n",
    "    \n",
    "    for k in range(0, len(U[1,:]) - 1):  \n",
    "    \n",
    "        current_u = U[:, k]\n",
    "        upper_u = U[:, k+1]\n",
    "        lower_u = U[:, k-1]\n",
    "        \n",
    "        s_c = S_c[:, k]\n",
    "        s_p = S_p[:, k]\n",
    "        \n",
    "        current_lambdas = lambdas[:, k]\n",
    "        upper_lambdas = lambdas[:, k+1]\n",
    "        lower_lambdas = lambdas[:, k-1]\n",
    "        \n",
    "        alpha = np.zeros_like(current_u)\n",
    "        beta = np.zeros_like(current_u)\n",
    "        \n",
    "        alpha[1], beta[1]= get_initials_trans(k, current_lambdas, 'start')\n",
    "        \n",
    "        kind = 'transversal'\n",
    "        alpha, beta = calculate_coefficients(alpha, beta, current_u, upper_u, lower_u, s_c, s_p, \n",
    "                                             current_lambdas, upper_lambdas, lower_lambdas, kind)\n",
    "        \n",
    "        U[-1, k] = get_initials_trans(k, current_lambdas, 'end')\n",
    "        \n",
    "        for m in reversed(range(0, len(U[:, 1]) - 1)):\n",
    "            U[m, k] = alpha[m+1] * U[m+1, k] + beta[m+1]\n",
    "            \n",
    "    return U\n",
    "\n",
    "def thomas_algorithm_long(U, S_c, S_p, lambdas):\n",
    "    for m in range(0, len(U[:, 1]) - 1):\n",
    "\n",
    "        current_u = U[m, :]\n",
    "        upper_u = U[m+1, :]\n",
    "        lower_u = U[m-1, :]\n",
    "\n",
    "        s_c = S_c[m, :]\n",
    "        s_p = S_p[m, :]\n",
    "\n",
    "        current_lambdas = lambdas[m, :]\n",
    "        upper_lambdas = lambdas[m+1, :]\n",
    "        lower_lambdas = lambdas[m-1, :]\n",
    "        \n",
    "        alpha = np.zeros_like(current_u)\n",
    "        beta = np.zeros_like(current_u)\n",
    "        \n",
    "        alpha[1], beta[1] = get_initials_long(m, current_lambdas, alpha[-1], beta[-1], 'start')\n",
    "        \n",
    "        kind = 'longituginal'\n",
    "        alpha, beta = calculate_coefficients(alpha, beta, current_u, upper_u, lower_u, s_c, s_p, \n",
    "                                             current_lambdas, upper_lambdas, lower_lambdas, kind)\n",
    "        \n",
    "        U[m, -1] = get_initials_long(m, current_lambdas, alpha[-1], beta[-1], 'end')\n",
    "\n",
    "        for k in reversed(range(0, len(U[1,:]) - 1)):\n",
    "            U[m, k] = alpha[k+1] * U[m, k+1] + beta[k+1]\n",
    "            \n",
    "    U[-1, :] = T_RIGHT\n",
    "    return U\n",
    "    \n",
    "def heatmap2d(arr: np.ndarray, interpolation=None):\n",
    "    plt.imshow(arr.T, cmap='hot', interpolation=interpolation)\n",
    "    plt.colorbar()\n",
    "    plt.xlabel('x')\n",
    "    plt.ylabel('y')\n",
    "    plt.title('Temperature map')\n",
    "    ax = plt.gca()\n",
    "    ax.invert_yaxis()"
   ]
  },
  {
   "cell_type": "markdown",
   "metadata": {},
   "source": [
    "## boundary conditions"
   ]
  },
  {
   "cell_type": "markdown",
   "metadata": {},
   "source": [
    "<img src=\"task3.png\">"
   ]
  },
  {
   "cell_type": "markdown",
   "metadata": {},
   "source": [
    "### outlet conditions"
   ]
  },
  {
   "cell_type": "code",
   "execution_count": 209,
   "metadata": {},
   "outputs": [],
   "source": [
    "T_LOWER = 0         # lower bound\n",
    "Q_UPPER = 1         # upper bound\n",
    "Q_LEFT = 0          # left bound\n",
    "T_RIGHT = 150       # right bound"
   ]
  },
  {
   "cell_type": "markdown",
   "metadata": {},
   "source": [
    "### inlet conditions"
   ]
  },
  {
   "cell_type": "code",
   "execution_count": 210,
   "metadata": {},
   "outputs": [],
   "source": [
    "T_INLET = 100\n",
    "LAMBDA_INLET = 10 ** 15\n",
    "M_INLET = 10 ** 20"
   ]
  },
  {
   "cell_type": "code",
   "execution_count": 211,
   "metadata": {},
   "outputs": [],
   "source": [
    "@lru_cache(maxsize=None)\n",
    "def generate_mask(radius):\n",
    "    mask_circle = np.zeros_like(T)\n",
    "\n",
    "    cv2.circle(mask_circle, (NUMBER_Y // 2, NUMBER_X // 2), radius, 1, cv2.FILLED)  \n",
    "    mask_circle = mask_circle.astype(bool)\n",
    "    \n",
    "    return mask_circle"
   ]
  },
  {
   "cell_type": "code",
   "execution_count": 212,
   "metadata": {},
   "outputs": [],
   "source": [
    "# first area\n",
    "lambdas[0 : BOUND_SIZE_X, 0 : BOUND_SIZE_Y] = LAMBDA_INLET\n",
    "\n",
    "#second area\n",
    "mask_circle = generate_mask(RADIUS)\n",
    "source_p[mask_circle] =  M_INLET \n",
    "source_c[mask_circle] =  - M_INLET * T_INLET \n",
    "\n",
    "#third area\n",
    "lambdas[0 : BOUND_SIZE_X, - BOUND_SIZE_Y : -1] = 0\n",
    "\n",
    "#fourth area\n",
    "lambdas[- BOUND_SIZE_X : -1, - BOUND_SIZE_Y : -1] = 0\n",
    "source_c[- BOUND_SIZE_X, - BOUND_SIZE_Y : -1] = 100\n",
    "\n",
    "#fifth area\n",
    "lambdas[- BOUND_SIZE_X : -1, 0 : BOUND_SIZE_Y] = 0\n",
    "\n"
   ]
  },
  {
   "cell_type": "markdown",
   "metadata": {},
   "source": [
    "## main procedure"
   ]
  },
  {
   "cell_type": "code",
   "execution_count": 213,
   "metadata": {},
   "outputs": [
    {
     "data": {
      "application/vnd.jupyter.widget-view+json": {
       "model_id": "3acfc02f92e146aaa7155cf28a83144f",
       "version_major": 2,
       "version_minor": 0
      },
      "text/plain": [
       "HBox(children=(IntProgress(value=1, bar_style='info', max=1), HTML(value='')))"
      ]
     },
     "metadata": {},
     "output_type": "display_data"
    },
    {
     "name": "stdout",
     "output_type": "stream",
     "text": [
      "\n"
     ]
    }
   ],
   "source": [
    "with tqdm.tqdm_notebook() as pbar:\n",
    "    while True:\n",
    "        T_prev = T.copy()\n",
    "\n",
    "        T = thomas_algorithm_trans(T, source_c, source_p, lambdas)\n",
    "        T = thomas_algorithm_long(T, source_c, source_p, lambdas)\n",
    "\n",
    "        T_difference = abs(T_prev - T)\n",
    "\n",
    "        if np.amax(T_difference) < 0.2:\n",
    "            break\n",
    "\n",
    "        pbar.update(1)\n",
    "        pbar.set_description(f\"T diff: {T_difference.max():.5f}\")\n",
    "        pbar.refresh()"
   ]
  },
  {
   "cell_type": "markdown",
   "metadata": {},
   "source": [
    "## vizualization"
   ]
  },
  {
   "cell_type": "code",
   "execution_count": 214,
   "metadata": {
    "scrolled": false
   },
   "outputs": [
    {
     "data": {
      "text/plain": [
       "[Text(0, 0, '-10'),\n",
       " Text(0, 0, '0'),\n",
       " Text(0, 0, '10'),\n",
       " Text(0, 0, '20'),\n",
       " Text(0, 0, '30'),\n",
       " Text(0, 0, '40'),\n",
       " Text(0, 0, '50'),\n",
       " Text(0, 0, '60'),\n",
       " Text(0, 0, '70')]"
      ]
     },
     "execution_count": 214,
     "metadata": {},
     "output_type": "execute_result"
    },
    {
     "data": {
      "image/png": "[encoded data removed]",
      "text/plain": [
       "<Figure size 1080x576 with 2 Axes>"
      ]
     },
     "metadata": {
      "needs_background": "light"
     },
     "output_type": "display_data"
    }
   ],
   "source": [
    "fig, ax = plt.subplots(figsize=(15, 8))\n",
    "heatmap2d(T_prev)\n",
    "\n",
    "ticks = ax.get_xticks()\n",
    "ax.set_xticklabels([str(int(X_min + x * (X_max - X_min) // (NUMBER_X)))\n",
    "                    for x in ticks])\n",
    "\n",
    "ticks = ax.get_yticks()\n",
    "ax.set_yticklabels([str(int(Y_min + x * (Y_max - Y_min) // (NUMBER_Y)))\n",
    "                    for x in ticks])\n"
   ]
  },
  {
   "cell_type": "code",
   "execution_count": null,
   "metadata": {},
   "outputs": [],
   "source": []
  }
 ],
 "metadata": {
  "kernelspec": {
   "display_name": "Python 3",
   "language": "python",
   "name": "python3"
  },
  "language_info": {
   "codemirror_mode": {
    "name": "ipython",
    "version": 3
   },
   "file_extension": ".py",
   "mimetype": "text/x-python",
   "name": "python",
   "nbconvert_exporter": "python",
   "pygments_lexer": "ipython3",
   "version": "3.7.2"
  }
 },
 "nbformat": 4,
 "nbformat_minor": 2
}
