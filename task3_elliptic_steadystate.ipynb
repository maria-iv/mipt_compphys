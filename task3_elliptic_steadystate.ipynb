{
 "cells": [
  {
   "cell_type": "markdown",
   "metadata": {},
   "source": [
    "# Heat equation"
   ]
  },
  {
   "cell_type": "markdown",
   "metadata": {},
   "source": [
    "## imports"
   ]
  },
  {
   "cell_type": "code",
   "execution_count": 7,
   "metadata": {},
   "outputs": [],
   "source": [
    "import numpy as np\n",
    "import pandas as pd\n",
    "import matplotlib.pyplot as plt\n",
    "from tqdm import tqdm_notebook\n",
    "import matplotlib.pyplot as plt\n",
    "from IPython.display import HTML\n",
    "from scipy import special\n",
    "import math"
   ]
  },
  {
   "cell_type": "markdown",
   "metadata": {},
   "source": [
    "## initialization"
   ]
  },
  {
   "cell_type": "code",
   "execution_count": 10,
   "metadata": {},
   "outputs": [],
   "source": [
    "X_max = 100\n",
    "Y_max = 120\n",
    "X_min = Y_min = 0\n",
    "\n",
    "NUMBER_X = 1000\n",
    "NUMBER_Y = 1000"
   ]
  },
  {
   "cell_type": "code",
   "execution_count": 3,
   "metadata": {},
   "outputs": [],
   "source": [
    "X_RANGE = np.linspace(X_min, X_max, NUMBER_X)\n",
    "Y_RANGE = np.linspace(Y_min, Y_max, NUMBER_Y)\n",
    "\n",
    "X_STEP = X_RANGE[1] - X_RANGE[0]\n",
    "Y_STEP = Y_RANGE[1] - Y_RANGE[0]"
   ]
  },
  {
   "cell_type": "code",
   "execution_count": 11,
   "metadata": {},
   "outputs": [],
   "source": [
    "X, Y = np.meshgrid(X_RANGE, Y_RANGE, indexing='ij')\n",
    "\n",
    "T = np.zeros_like(X)\n",
    "lambdas = np.ones_like(X)\n",
    "source_c = np.zeros_like(X)\n",
    "source_p = np.zeros_like(X)"
   ]
  },
  {
   "cell_type": "code",
   "execution_count": 22,
   "metadata": {},
   "outputs": [],
   "source": [
    "def calculate_coefficients(u, u_upper, u_lower, s, kind):\n",
    "    \"\"\"makes Thomas algorithm for longituginal and transversal kinds \"\"\"\n",
    "    if kind == 'longituginal':\n",
    "        h_x = X_STEP\n",
    "        h_y = Y_STEP\n",
    "    elif kind == 'transversal':\n",
    "        h_x = Y_STEP\n",
    "        h_y = X_STEP\n",
    "    \n",
    "    a = b = h_y ** 2\n",
    "    c = 2 * (h_x ** 2 + h_y ** 2)\n",
    "    d = h_x ** 2 * (np.roll(u, -1) + np.roll(u, 1)) - s\n",
    "    \n",
    "    for i in range(1, len(u)-1):\n",
    "        alpha[i+1] = b / (c - alpha[i] * a)\n",
    "        beta[i+1] = (a * beta[i] + d) / (c - alpha[i] * a)\n",
    "        \n",
    "    return alpha,beta\n",
    "    \n",
    "def thomas_algorithm(u, u_upper, u_lower, s, kind):\n",
    "    alpha, beta = calculate_coefficients(u, u_upper, u_lower, s, kind)\n",
    "    # get from alpha and beta u"
   ]
  },
  {
   "cell_type": "markdown",
   "metadata": {},
   "source": [
    "## boundary conditions"
   ]
  },
  {
   "cell_type": "markdown",
   "metadata": {},
   "source": [
    "<img src=\"task3.png\" height=\"100px\" width=\"400px\" >"
   ]
  },
  {
   "cell_type": "code",
   "execution_count": 18,
   "metadata": {},
   "outputs": [],
   "source": [
    "lambda_edge = 10 ** 15\n",
    "T_edge = 150"
   ]
  },
  {
   "cell_type": "markdown",
   "metadata": {},
   "source": [
    "### 1"
   ]
  },
  {
   "cell_type": "code",
   "execution_count": 19,
   "metadata": {},
   "outputs": [],
   "source": [
    "lambdas[0:10,0:10] = lambda_edge\n",
    "T[0:10,0] = T_edge\n",
    "T[0,0:10] = T_edge"
   ]
  },
  {
   "cell_type": "markdown",
   "metadata": {},
   "source": [
    "## main procedure"
   ]
  },
  {
   "cell_type": "code",
   "execution_count": 20,
   "metadata": {},
   "outputs": [],
   "source": [
    "check = True"
   ]
  },
  {
   "cell_type": "code",
   "execution_count": null,
   "metadata": {},
   "outputs": [],
   "source": [
    "# while check:\n",
    "    "
   ]
  }
 ],
 "metadata": {
  "kernelspec": {
   "display_name": "Python 3",
   "language": "python",
   "name": "python3"
  },
  "language_info": {
   "codemirror_mode": {
    "name": "ipython",
    "version": 3
   },
   "file_extension": ".py",
   "mimetype": "text/x-python",
   "name": "python",
   "nbconvert_exporter": "python",
   "pygments_lexer": "ipython3",
   "version": "3.7.2"
  }
 },
 "nbformat": 4,
 "nbformat_minor": 2
}
