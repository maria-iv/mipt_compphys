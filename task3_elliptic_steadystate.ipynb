{
 "cells": [
  {
   "cell_type": "markdown",
   "metadata": {},
   "source": [
    "# Heat equation"
   ]
  },
  {
   "cell_type": "markdown",
   "metadata": {},
   "source": [
    "## imports"
   ]
  },
  {
   "cell_type": "code",
   "execution_count": 40,
   "metadata": {},
   "outputs": [],
   "source": [
    "import numpy as np\n",
    "import pandas as pd\n",
    "import matplotlib.pyplot as plt\n",
    "from tqdm import tqdm_notebook\n",
    "from IPython.display import HTML\n",
    "from scipy import special\n",
    "import math\n",
    "\n",
    "import seaborn as sns"
   ]
  },
  {
   "cell_type": "markdown",
   "metadata": {},
   "source": [
    "## initialization"
   ]
  },
  {
   "cell_type": "code",
   "execution_count": 41,
   "metadata": {},
   "outputs": [],
   "source": [
    "X_max = 100\n",
    "Y_max = 120\n",
    "X_min = Y_min = 0\n",
    "\n",
    "NUMBER_X = 1000\n",
    "NUMBER_Y = 1000"
   ]
  },
  {
   "cell_type": "code",
   "execution_count": 42,
   "metadata": {},
   "outputs": [],
   "source": [
    "X_RANGE = np.linspace(X_min, X_max, NUMBER_X)\n",
    "Y_RANGE = np.linspace(Y_min, Y_max, NUMBER_Y)\n",
    "\n",
    "X_STEP = X_RANGE[1] - X_RANGE[0]\n",
    "Y_STEP = Y_RANGE[1] - Y_RANGE[0]"
   ]
  },
  {
   "cell_type": "code",
   "execution_count": 43,
   "metadata": {},
   "outputs": [],
   "source": [
    "X, Y = np.meshgrid(X_RANGE, Y_RANGE, indexing='ij')\n",
    "\n",
    "T = np.zeros_like(X)\n",
    "lambdas = np.ones_like(X)\n",
    "source_c = np.zeros_like(X)\n",
    "source_p = np.zeros_like(X)"
   ]
  },
  {
   "cell_type": "code",
   "execution_count": 44,
   "metadata": {},
   "outputs": [],
   "source": [
    "alpha = np.zeros_like(X_RANGE)\n",
    "beta = np.zeros_like(X_RANGE)\n",
    "\n",
    "alpha[1] = 0"
   ]
  },
  {
   "cell_type": "code",
   "execution_count": 45,
   "metadata": {},
   "outputs": [],
   "source": [
    "def calculate_coefficients(u, u_upper, u_lower, s, kind):\n",
    "    \"\"\"makes Thomas algorithm for longituginal and transversal kinds \"\"\"\n",
    "    if kind == 'longituginal':\n",
    "        h_x = X_STEP\n",
    "        h_y = Y_STEP\n",
    "    elif kind == 'transversal':\n",
    "        h_x = Y_STEP\n",
    "        h_y = X_STEP\n",
    "    \n",
    "    a = b = h_y ** 2\n",
    "    c = 2 * (h_x ** 2 + h_y ** 2)\n",
    "    d = h_x ** 2 * (u_upper + u_lower) - s\n",
    "    \n",
    "    beta[1] = u[0]\n",
    "    \n",
    "    for i in range(1, len(u)-1):\n",
    "        alpha[i+1] = b / (c - alpha[i] * a)\n",
    "        beta[i+1] = (a * beta[i] + d[i]) / (c - alpha[i] * a)\n",
    "    return alpha, beta\n",
    "    \n",
    "def thomas_algorithm(U, S, kind):\n",
    "    \n",
    "    if kind == 'transversal':\n",
    "        U = U.transpose()\n",
    "        \n",
    "    for j in range(0, NUMBER_Y - 1):\n",
    "        \n",
    "        current_u = U[:, j]\n",
    "        upper_u = U[:,j+1]\n",
    "        lower_u = U[:,j-1]\n",
    "        s = S[:, j]\n",
    "\n",
    "        alpha, beta = calculate_coefficients(current_u, upper_u, lower_u, s, kind)\n",
    "\n",
    "        for i in reversed(range(0, NUMBER_X - 1)):\n",
    "            U[i, j+1] = alpha[i+1] * U[i+1, j+1] + beta[i+1]\n",
    "            \n",
    "    if kind == 'transversal':\n",
    "        U = U.transpose()\n",
    "            \n",
    "    return U\n",
    "    \n",
    "def heatmap2d(arr: np.ndarray):\n",
    "    plt.imshow(arr, cmap='hot')\n",
    "    plt.colorbar()\n",
    "    ax.invert_yaxis()"
   ]
  },
  {
   "cell_type": "markdown",
   "metadata": {},
   "source": [
    "## boundary conditions"
   ]
  },
  {
   "cell_type": "markdown",
   "metadata": {},
   "source": [
    "<img src=\"task3.png\" height=\"100px\" width=\"400px\" >"
   ]
  },
  {
   "cell_type": "code",
   "execution_count": 93,
   "metadata": {},
   "outputs": [],
   "source": [
    "lambda_edge = 10\n",
    "T_edge = 300"
   ]
  },
  {
   "cell_type": "markdown",
   "metadata": {},
   "source": [
    "### 1"
   ]
  },
  {
   "cell_type": "code",
   "execution_count": 94,
   "metadata": {},
   "outputs": [],
   "source": [
    "size_x = int(10 / X_STEP)\n",
    "size_y = int(10 / X_STEP)\n",
    "\n",
    "lambdas[0 : size_x, 0 : size_y] = lambda_edge\n",
    "T[0 : size_x, 0] = T_edge\n",
    "T[0, 0 : size_y] = T_edge"
   ]
  },
  {
   "cell_type": "markdown",
   "metadata": {},
   "source": [
    "## main procedure"
   ]
  },
  {
   "cell_type": "code",
   "execution_count": 95,
   "metadata": {},
   "outputs": [],
   "source": [
    "check = True"
   ]
  },
  {
   "cell_type": "code",
   "execution_count": 96,
   "metadata": {},
   "outputs": [],
   "source": [
    "while check:\n",
    "    T_prev = T\n",
    "    \n",
    "    T = thomas_algorithm(T, source_c, 'longituginal')\n",
    "    T = thomas_algorithm(T, source_c, 'transversal')\n",
    "    \n",
    "    T_difference = abs(T_prev - T)\n",
    "    \n",
    "    if np.amax(T_difference) < 0.1:\n",
    "        check = False"
   ]
  },
  {
   "cell_type": "markdown",
   "metadata": {},
   "source": [
    "## vizualization"
   ]
  },
  {
   "cell_type": "code",
   "execution_count": 106,
   "metadata": {},
   "outputs": [
    {
     "data": {
      "image/png": "[encoded data removed]",
      "text/plain": [
       "<Figure size 720x360 with 2 Axes>"
      ]
     },
     "metadata": {
      "needs_background": "light"
     },
     "output_type": "display_data"
    }
   ],
   "source": [
    "fig, ax = plt.subplots(figsize=(10,5))\n",
    "\n",
    "heatmap2d(T)"
   ]
  }
 ],
 "metadata": {
  "kernelspec": {
   "display_name": "Python 3",
   "language": "python",
   "name": "python3"
  },
  "language_info": {
   "codemirror_mode": {
    "name": "ipython",
    "version": 3
   },
   "file_extension": ".py",
   "mimetype": "text/x-python",
   "name": "python",
   "nbconvert_exporter": "python",
   "pygments_lexer": "ipython3",
   "version": "3.7.2"
  }
 },
 "nbformat": 4,
 "nbformat_minor": 2
}
