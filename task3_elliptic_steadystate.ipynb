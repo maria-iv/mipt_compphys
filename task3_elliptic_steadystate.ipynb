{
 "cells": [
  {
   "cell_type": "markdown",
   "metadata": {},
   "source": [
    "# Heat equation"
   ]
  },
  {
   "cell_type": "markdown",
   "metadata": {},
   "source": [
    "## imports"
   ]
  },
  {
   "cell_type": "code",
   "execution_count": 60,
   "metadata": {},
   "outputs": [],
   "source": [
    "import numpy as np\n",
    "import pandas as pd\n",
    "import matplotlib.pyplot as plt\n",
    "from tqdm import tqdm_notebook\n",
    "from IPython.display import HTML\n",
    "from scipy import special\n",
    "import math\n",
    "\n",
    "import seaborn as sns"
   ]
  },
  {
   "cell_type": "markdown",
   "metadata": {},
   "source": [
    "## initialization"
   ]
  },
  {
   "cell_type": "code",
   "execution_count": 61,
   "metadata": {},
   "outputs": [],
   "source": [
    "X_max = 100\n",
    "Y_max = 100\n",
    "X_min = Y_min = 0\n",
    "\n",
    "NUMBER_X = 1000\n",
    "NUMBER_Y = 1000"
   ]
  },
  {
   "cell_type": "code",
   "execution_count": 62,
   "metadata": {},
   "outputs": [],
   "source": [
    "X_RANGE = np.linspace(X_min, X_max, NUMBER_X)\n",
    "Y_RANGE = np.linspace(Y_min, Y_max, NUMBER_Y)\n",
    "\n",
    "X_STEP = X_RANGE[1] - X_RANGE[0]\n",
    "Y_STEP = Y_RANGE[1] - Y_RANGE[0]"
   ]
  },
  {
   "cell_type": "code",
   "execution_count": 63,
   "metadata": {},
   "outputs": [],
   "source": [
    "X, Y = np.meshgrid(X_RANGE, Y_RANGE, indexing='ij')\n",
    "\n",
    "T = np.zeros_like(X)\n",
    "lambdas = np.ones_like(X)\n",
    "source_c = np.zeros_like(X)\n",
    "source_p = np.zeros_like(X)"
   ]
  },
  {
   "cell_type": "code",
   "execution_count": 64,
   "metadata": {},
   "outputs": [],
   "source": [
    "def calculate_coefficients(alpha, beta, u, u_upper, u_lower, s, kind):\n",
    "    \"\"\"makes Thomas algorithm for longituginal and transversal kinds \"\"\"\n",
    "    if kind == 'longituginal':\n",
    "        h_x = X_STEP\n",
    "        h_y = Y_STEP\n",
    "    elif kind == 'transversal':\n",
    "        h_x = Y_STEP\n",
    "        h_y = X_STEP\n",
    "    \n",
    "    a = b = h_y ** 2\n",
    "    c = 2 * (h_x ** 2 + h_y ** 2)\n",
    "    d = h_x ** 2 * (u_upper + u_lower) - s\n",
    "    \n",
    "    beta[1] = u[0]\n",
    "    \n",
    "    for i in range(1, len(u)-1):\n",
    "        alpha[i+1] = b / (c - alpha[i] * a)\n",
    "        beta[i+1] = (a * beta[i] + d[i]) / (c - alpha[i] * a)\n",
    "    return alpha, beta\n",
    "    \n",
    "def thomas_algorithm_trans(U, S, lambdas):\n",
    "    \n",
    "    for k in range(1, len(U[1,:]) - 1):\n",
    "        \n",
    "        current_u = U[:, k]\n",
    "        upper_u = U[:, k+1]\n",
    "        lower_u = U[:, k-1]\n",
    "        s = S[:, k]\n",
    "             \n",
    "        alpha = np.zeros_like(U[1, :])\n",
    "        beta = np.zeros_like(U[1, :])\n",
    "\n",
    "        alpha[1] = 0\n",
    "        beta[1] = q_left\n",
    "        \n",
    "        kind = 'transversal'\n",
    "        alpha, beta = calculate_coefficients(alpha, beta, current_u, upper_u, lower_u, s, kind)\n",
    "\n",
    "        for m in reversed(range(0, len(U[:,1]) - 1)):\n",
    "            U[m, k+1] = alpha[m+1] * U[m+1, k+1] + beta[m+1]\n",
    "    return U\n",
    "\n",
    "def thomas_algorithm_long(U, S, lambdas):\n",
    "    \n",
    "    for m in range(1, len(U[:,1]) - 1):\n",
    "        \n",
    "        current_u = U[m, :]\n",
    "        upper_u = U[m+1, :]\n",
    "        lower_u = U[m-1, :]\n",
    "        s = S[m, :]\n",
    "             \n",
    "        alpha = np.zeros_like(U[1, :])\n",
    "        beta = np.zeros_like(U[1, :])\n",
    "\n",
    "        alpha[1] = 0\n",
    "        beta[1] = current_u[0]\n",
    "\n",
    "        kind = 'longituginal'\n",
    "        alpha, beta = calculate_coefficients(alpha, beta, current_u, upper_u, lower_u, s, kind)\n",
    "\n",
    "        for k in reversed(range(0, len(U[1,:]) - 1)):\n",
    "            U[m+1, k] = alpha[k+1] * U[m+1, k+1] + beta[k+1]\n",
    "    return U\n",
    "    \n",
    "def heatmap2d(arr: np.ndarray):\n",
    "    plt.imshow(arr, cmap='hot')\n",
    "    plt.colorbar()\n",
    "    plt.ylim(0,1000)\n",
    "    plt.xlim(0,1000)"
   ]
  },
  {
   "cell_type": "markdown",
   "metadata": {},
   "source": [
    "## boundary conditions"
   ]
  },
  {
   "cell_type": "markdown",
   "metadata": {},
   "source": [
    "<img src=\"task3.png\" height=\"100px\" width=\"400px\" >"
   ]
  },
  {
   "cell_type": "markdown",
   "metadata": {},
   "source": [
    "### outlet conditions"
   ]
  },
  {
   "cell_type": "code",
   "execution_count": 53,
   "metadata": {},
   "outputs": [],
   "source": [
    "T[:, 0] = 0         # lower bound\n",
    "q_upper = 1         # upper bound\n",
    "q_left = 0          # left bound\n",
    "T[-1, :] = 100      # right bound"
   ]
  },
  {
   "cell_type": "code",
   "execution_count": 54,
   "metadata": {},
   "outputs": [],
   "source": [
    "# lambda_edge = 10 ** 20\n",
    "# T_edge = 300"
   ]
  },
  {
   "cell_type": "markdown",
   "metadata": {},
   "source": [
    "### 1"
   ]
  },
  {
   "cell_type": "code",
   "execution_count": 55,
   "metadata": {},
   "outputs": [],
   "source": [
    "# size_x = int(10 / X_STEP)\n",
    "# size_y = int(10 / Y_STEP)\n",
    "\n",
    "# lambdas[0 : size_x, 0 : size_y] = lambda_edge\n",
    "# T[0 : size_x, 0] = T_edge\n",
    "# T[0, 0 : size_y] = T_edge"
   ]
  },
  {
   "cell_type": "markdown",
   "metadata": {},
   "source": [
    "## main procedure"
   ]
  },
  {
   "cell_type": "code",
   "execution_count": 56,
   "metadata": {},
   "outputs": [],
   "source": [
    "check = True"
   ]
  },
  {
   "cell_type": "code",
   "execution_count": 57,
   "metadata": {},
   "outputs": [],
   "source": [
    "while check:\n",
    "    T_prev = T\n",
    "    \n",
    "    T = thomas_algorithm_trans(T, source_c, lambdas)\n",
    "    T = thomas_algorithm_long(T, source_c, lambdas)\n",
    "    \n",
    "    T_difference = abs(T_prev - T)\n",
    "    \n",
    "    if np.amax(T_difference) < 0.1:\n",
    "        check = False"
   ]
  },
  {
   "cell_type": "markdown",
   "metadata": {},
   "source": [
    "## vizualization"
   ]
  },
  {
   "cell_type": "code",
   "execution_count": 58,
   "metadata": {},
   "outputs": [
    {
     "data": {
      "image/png": "[encoded data removed]",
      "text/plain": [
       "<Figure size 720x360 with 2 Axes>"
      ]
     },
     "metadata": {
      "needs_background": "light"
     },
     "output_type": "display_data"
    }
   ],
   "source": [
    "fig, ax = plt.subplots(figsize=(10,5))\n",
    "\n",
    "heatmap2d(T)"
   ]
  },
  {
   "cell_type": "code",
   "execution_count": null,
   "metadata": {},
   "outputs": [],
   "source": []
  }
 ],
 "metadata": {
  "kernelspec": {
   "display_name": "Python 3",
   "language": "python",
   "name": "python3"
  },
  "language_info": {
   "codemirror_mode": {
    "name": "ipython",
    "version": 3
   },
   "file_extension": ".py",
   "mimetype": "text/x-python",
   "name": "python",
   "nbconvert_exporter": "python",
   "pygments_lexer": "ipython3",
   "version": "3.7.2"
  }
 },
 "nbformat": 4,
 "nbformat_minor": 2
}
