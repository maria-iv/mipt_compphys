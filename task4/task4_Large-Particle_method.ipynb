{
 "cells": [
  {
   "cell_type": "markdown",
   "metadata": {},
   "source": [
    "# Riemann problem"
   ]
  },
  {
   "cell_type": "markdown",
   "metadata": {},
   "source": [
    "## libs"
   ]
  },
  {
   "cell_type": "code",
   "execution_count": 1,
   "metadata": {},
   "outputs": [],
   "source": [
    "import numpy as np\n",
    "import pandas as pd\n",
    "import matplotlib.pyplot as plt\n",
    "from tqdm import tqdm_notebook\n",
    "from matplotlib import animation\n",
    "from IPython.display import HTML\n",
    "from scipy import special"
   ]
  },
  {
   "cell_type": "markdown",
   "metadata": {},
   "source": [
    "## initialization"
   ]
  },
  {
   "cell_type": "code",
   "execution_count": 4,
   "metadata": {},
   "outputs": [],
   "source": [
    "X_max = 15\n",
    "T_max = 100\n",
    "X_min = T_min = 0\n",
    "\n",
    "NUMBER_X = 50\n",
    "NUMBER_T = 100"
   ]
  },
  {
   "cell_type": "code",
   "execution_count": 6,
   "metadata": {},
   "outputs": [],
   "source": [
    "X_RANGE = np.linspace(X_min, X_max, NUMBER_X)\n",
    "T_RANGE = np.linspace(T_min, T_max, NUMBER_T)\n",
    "\n",
    "X_STEP = X_RANGE[1] - X_RANGE[0]\n",
    "T_STEP = T_RANGE[1] - T_RANGE[0]"
   ]
  },
  {
   "cell_type": "code",
   "execution_count": 15,
   "metadata": {},
   "outputs": [],
   "source": [
    "VELOCITY_left = 300\n",
    "DENSITY_left = 10\n",
    "PRESSURE_left = 200\n",
    "ENERGY_LEFT = 100"
   ]
  },
  {
   "cell_type": "code",
   "execution_count": 16,
   "metadata": {},
   "outputs": [],
   "source": [
    "def set_conditions(f, BOUNDARY_CONDITION):\n",
    "    f[:, 0] = 0\n",
    "    f[0, :] = BOUNDARY_CONDITION\n",
    "    f[-1, :] = 0\n",
    "    \n",
    "    return f"
   ]
  },
  {
   "cell_type": "code",
   "execution_count": 20,
   "metadata": {},
   "outputs": [],
   "source": [
    "X, T = np.meshgrid(X_RANGE, T_RANGE, indexing='ij')\n",
    "\n",
    "# Boundary / initial conditions\n",
    "velocity, density, pressure, energy = [np.zeros_like(X)] * 4\n",
    "\n",
    "velocity = set_conditions(velocity, VELOCITY_left)\n",
    "density = set_conditions(density, DENSITY_left)\n",
    "pressure = set_conditions(pressure, PRESSURE_left)\n",
    "energy = set_conditions(energy, ENERGY_LEFT)"
   ]
  },
  {
   "cell_type": "code",
   "execution_count": 29,
   "metadata": {},
   "outputs": [],
   "source": [
    "def euler_step(f_a, f_b, f_c):\n",
    "    \"\"\"f_a is f[i-1], f_b is f[i], f_c is f[i+1]\"\"\"\n",
    "    \n",
    "    f_plus = (f_b + f_c) / 2\n",
    "    f_minus = (f_a + f_b) / 2\n",
    "    \n",
    "    return f_plus, f_minus\n",
    "\n",
    "def lagrange_step(r_a, r_b, r_c, u_plus, u_minus):\n",
    "    \"\"\"r_a is density[i-1], r_b is density[i], r_c is density[i+1]\"\"\" \n",
    "    \n",
    "    if u_plus >= 0:\n",
    "        M_plus = r_b * u_plus * T_STEP\n",
    "    else:\n",
    "        M_plus = r_c * u_plus * T_STEP\n",
    "        \n",
    "    if u_minus >= 0:\n",
    "        M_minus = r_a * u_minus * T_STEP\n",
    "    else:\n",
    "        M_plus = r_b * u_minus * T_STEP\n",
    "        \n",
    "    return abs(M_plus), abs(M_minus)\n",
    "\n",
    "def final_step(Y_plus, Y_minus, r_i, u, e, u_plus, u_minus):\n",
    "    \n",
    "    if u_plus >= 0: \n",
    "        D_plus = 0\n",
    "    else: \n",
    "        D_plus = 1\n",
    "        \n",
    "    if u_minus >= 0: \n",
    "        D_minus = 1\n",
    "    else: \n",
    "        D_plus = 0\n",
    "        \n",
    "    r_next = r_i + 2 * ((D_minus - 0.5) * Y_minus + (D_plus - 0.5) * Y_plus) / X_STEP"
   ]
  },
  {
   "cell_type": "markdown",
   "metadata": {},
   "source": [
    "## main procedure"
   ]
  },
  {
   "cell_type": "code",
   "execution_count": null,
   "metadata": {},
   "outputs": [],
   "source": []
  }
 ],
 "metadata": {
  "kernelspec": {
   "display_name": "Python 3",
   "language": "python",
   "name": "python3"
  },
  "language_info": {
   "codemirror_mode": {
    "name": "ipython",
    "version": 3
   },
   "file_extension": ".py",
   "mimetype": "text/x-python",
   "name": "python",
   "nbconvert_exporter": "python",
   "pygments_lexer": "ipython3",
   "version": "3.7.2"
  }
 },
 "nbformat": 4,
 "nbformat_minor": 2
}
